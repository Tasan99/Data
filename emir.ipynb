{
 "cells": [
  {
   "cell_type": "markdown",
   "metadata": {},
   "source": [
    "emir"
   ]
  },
  {
   "cell_type": "markdown",
   "metadata": {},
   "source": [
    "Introduction"
   ]
  },
  {
   "cell_type": "markdown",
   "metadata": {},
   "source": [
    "PYTHON\n",
    "R\n",
    "SQL\n",
    "JAVA\n",
    "MATLAB\n",
    "SCALA\n",
    "PERL\n",
    "RUBY\n",
    "SAS"
   ]
  },
  {
   "cell_type": "markdown",
   "metadata": {},
   "source": [
    "### Data Science Libraries in Python\n",
    "\n",
    "1. **NumPy**: Fundamental package for numerical computing in Python.\n",
    "2. **pandas**: Data manipulation and analysis library.\n",
    "3. **scikit-learn**: Machine learning library for classification, regression, clustering, etc.\n",
    "4. **Matplotlib**: A 2D plotting library for creating visualizations.\n",
    "5. **Seaborn**: A high-level interface to Matplotlib for creating attractive statistical graphics.\n",
    "6. **TensorFlow**: Open-source machine learning framework developed by Google.\n",
    "7. **Keras**: High-level neural networks API running on top of TensorFlow.\n",
    "8. **PyTorch**: An open-source machine learning library developed by Facebook's AI Research lab.\n",
    "9. **Statsmodels**: Statistical modeling and hypothesis testing.\n",
    "10. **NLTK (Natural Language Toolkit)**: Library for working with human language data.\n",
    "11. **Beautiful Soup**: Web scraping library for extracting data from websites.\n",
    "12. **NetworkX**: Library for analyzing and modeling complex networks.\n",
    "\n",
    "Feel free to explore these libraries based on your specific data science needs."
   ]
  },
  {
   "cell_type": "markdown",
   "metadata": {},
   "source": [
    "### Data Science Tools\n",
    "\n",
    "| Tool                   | Description                                              |\n",
    "|------------------------|----------------------------------------------------------|\n",
    "| **Python**             | A versatile programming language with a rich ecosystem of data science libraries. |\n",
    "| **Jupyter Notebook**   | An interactive web application for creating and sharing documents with live code, equations, visualizations, and narrative text. |\n",
    "| **RStudio**            | An integrated development environment (IDE) for R, commonly used for statistical computing and data analysis. |\n",
    "| **SQL**                | A language for managing and querying relational databases, essential for working with structured data. |\n",
    "| **Apache Hadoop**      | A framework for distributed storage and processing of large datasets, often used for big data analysis. |\n",
    "| **Apache Spark**       | A fast and general-purpose cluster computing system for big data processing. |\n",
    "| **Tableau**            | A data visualization tool that allows users to create interactive and shareable dashboards. |\n",
    "| **Excel**              | A spreadsheet software often used for basic data analysis and visualization. |\n",
    "| **SAS**                | A software suite for advanced analytics and data management in various industries. |\n",
    "| **Matlab**             | A high-level language and interactive environment for numerical computing, often used in engineering and academia. |\n",
    "| **Knime**              | An open-source data analytics platform for data integration, transformation, analysis, and reporting. |\n",
    "| **RapidMiner**         | An open-source data science platform for data prep, machine learning, and predictive model deployment. |\n",
    "| **DataRobot**          | An automated machine learning platform for building, deploying, and managing machine learning models. |\n",
    "\n",
    "These tools are commonly used in data science for tasks ranging from data manipulation and analysis to machine learning and data visualization.\n"
   ]
  },
  {
   "cell_type": "markdown",
   "metadata": {},
   "source": [
    "### Arithmetic Expression Examples\n",
    "\n",
    "Arithmetic expressions are fundamental in mathematics and are widely used in various fields of science and engineering. They involve mathematical operations such as addition, subtraction, multiplication, and division to perform calculations. In data science, arithmetic expressions are often used for data manipulation, analysis, and modeling.\n",
    "\n",
    "Here are some common arithmetic operations and their examples:\n",
    "\n",
    "#### Addition\n",
    "```python\n",
    "5 + 3  # Result: 8\n",
    "-\n",
    "*\n",
    "/\n"
   ]
  },
  {
   "cell_type": "code",
   "execution_count": 1,
   "metadata": {},
   "outputs": [
    {
     "data": {
      "text/plain": [
       "(15, 8)"
      ]
     },
     "execution_count": 1,
     "metadata": {},
     "output_type": "execute_result"
    }
   ],
   "source": [
    "# Multiply and Add Numbers\n",
    "# You can change the values of 'a' and 'b' to perform different calculations.\n",
    "\n",
    "a = 5  # Change this value\n",
    "b = 3  # Change this value\n",
    "\n",
    "# Multiply 'a' and 'b'\n",
    "product = a * b\n",
    "\n",
    "# Add 'a' and 'b'\n",
    "sum_result = a + b\n",
    "\n",
    "product, sum_result  # Output the results\n"
   ]
  },
  {
   "cell_type": "code",
   "execution_count": 4,
   "metadata": {},
   "outputs": [
    {
     "name": "stdout",
     "output_type": "stream",
     "text": [
      "2 178\n"
     ]
    }
   ],
   "source": [
    "minute=int(input(\"Minute:\"))\n",
    "hours=minute//60\n",
    "remaiing_minute=minute%60\n",
    "\n",
    "print(hours,remaiing_minute)"
   ]
  },
  {
   "cell_type": "markdown",
   "metadata": {},
   "source": [
    "### Objectives\n",
    "\n",
    "1. **Learn Data Science Fundamentals**: Gain a solid understanding of the fundamental concepts, techniques, and tools used in data science.\n",
    "\n",
    "2. **Data Collection and Cleaning**: Learn how to collect, clean, and preprocess data from various sources, ensuring its quality and suitability for analysis.\n",
    "\n",
    "3. **Exploratory Data Analysis (EDA)**: Master the techniques for exploring and visualizing data to uncover insights and patterns.\n",
    "\n",
    "4. **Statistical Analysis**: Develop proficiency in statistical methods and hypothesis testing to draw meaningful conclusions from data.\n",
    "\n",
    "5. **Machine Learning**: Acquire knowledge of machine learning algorithms and their applications for predictive modeling and classification tasks.\n",
    "\n",
    "6. **Data Visualization**: Learn how to create informative and compelling visualizations to communicate data insights effectively.\n",
    "\n",
    "7. **Big Data Handling**: Gain the skills to work with large datasets using tools like Hadoop and Spark.\n",
    "\n",
    "8. **Data Ethics and Privacy**: Understand the ethical considerations and best practices in handling sensitive data.\n",
    "\n",
    "9. **Real-world Projects**: Apply data science skills to real-world projects and gain practical experience.\n",
    "\n",
    "10. **Continuous Learning**: Stay updated with the latest trends and technologies in the rapidly evolving field of data science.\n",
    "\n",
    "These objectives serve as a roadmap for building a strong foundation in data science and achieving proficiency in the field.\n"
   ]
  },
  {
   "cell_type": "markdown",
   "metadata": {},
   "source": [
    "### Author\n",
    "\n",
    "- Author's Name: [Emir]\n"
   ]
  }
 ],
 "metadata": {
  "kernelspec": {
   "display_name": "Python 3",
   "language": "python",
   "name": "python3"
  },
  "language_info": {
   "codemirror_mode": {
    "name": "ipython",
    "version": 3
   },
   "file_extension": ".py",
   "mimetype": "text/x-python",
   "name": "python",
   "nbconvert_exporter": "python",
   "pygments_lexer": "ipython3",
   "version": "3.10.4"
  }
 },
 "nbformat": 4,
 "nbformat_minor": 2
}
